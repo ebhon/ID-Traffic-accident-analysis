{
 "cells": [
  {
   "cell_type": "code",
   "execution_count": 43,
   "metadata": {},
   "outputs": [],
   "source": [
    "import pandas as pd"
   ]
  },
  {
   "cell_type": "code",
   "execution_count": 44,
   "metadata": {},
   "outputs": [],
   "source": [
    "def load_url_from_txt (filename='article_urls.txt'):\n",
    "    with open(filename, 'r') as file:\n",
    "        urls = [line.strip() for line in file.readlines()]\n",
    "    return urls\n",
    "\n",
    "def url_to_df(urls):\n",
    "    df = pd.DataFrame(urls, columns=['url'])\n",
    "    return df\n",
    "\n",
    "urls = load_url_from_txt()\n",
    "df_urls = url_to_df(urls)"
   ]
  },
  {
   "cell_type": "code",
   "execution_count": 45,
   "metadata": {},
   "outputs": [
    {
     "data": {
      "text/html": [
       "<div>\n",
       "<style scoped>\n",
       "    .dataframe tbody tr th:only-of-type {\n",
       "        vertical-align: middle;\n",
       "    }\n",
       "\n",
       "    .dataframe tbody tr th {\n",
       "        vertical-align: top;\n",
       "    }\n",
       "\n",
       "    .dataframe thead th {\n",
       "        text-align: right;\n",
       "    }\n",
       "</style>\n",
       "<table border=\"1\" class=\"dataframe\">\n",
       "  <thead>\n",
       "    <tr style=\"text-align: right;\">\n",
       "      <th></th>\n",
       "      <th>url</th>\n",
       "    </tr>\n",
       "  </thead>\n",
       "  <tbody>\n",
       "    <tr>\n",
       "      <th>0</th>\n",
       "      <td>/baca/nusantara/2022/09/25/kecelakaan-beruntun...</td>\n",
       "    </tr>\n",
       "    <tr>\n",
       "      <th>1</th>\n",
       "      <td>/baca/nusantara/2024/04/28/kecelakaan-lalu-lin...</td>\n",
       "    </tr>\n",
       "    <tr>\n",
       "      <th>2</th>\n",
       "      <td>/baca/ekonomi/2024/04/21/kecelakaan-travel-gel...</td>\n",
       "    </tr>\n",
       "    <tr>\n",
       "      <th>3</th>\n",
       "      <td>/baca/video/2023/09/24/kecelakaan-di-sekitar-t...</td>\n",
       "    </tr>\n",
       "    <tr>\n",
       "      <th>4</th>\n",
       "      <td>/baca/nusantara/2021/09/09/galeri-foto-kecelak...</td>\n",
       "    </tr>\n",
       "    <tr>\n",
       "      <th>...</th>\n",
       "      <td>...</td>\n",
       "    </tr>\n",
       "    <tr>\n",
       "      <th>641</th>\n",
       "      <td>/baca/metro/2020/12/26/kompolnas-pantau-penyel...</td>\n",
       "    </tr>\n",
       "    <tr>\n",
       "      <th>642</th>\n",
       "      <td>/baca/nusantara/2022/03/17/dua-orang-tewas-aki...</td>\n",
       "    </tr>\n",
       "    <tr>\n",
       "      <th>643</th>\n",
       "      <td>/baca/metro/2020/07/10/mobil-terjun-ke-kalimal...</td>\n",
       "    </tr>\n",
       "    <tr>\n",
       "      <th>644</th>\n",
       "      <td>/baca/video/2018/09/10/jenazah-korban-kecelaka...</td>\n",
       "    </tr>\n",
       "    <tr>\n",
       "      <th>645</th>\n",
       "      <td>/baca/nusantara/2021/03/29/truk-pengangkut-sod...</td>\n",
       "    </tr>\n",
       "  </tbody>\n",
       "</table>\n",
       "<p>646 rows × 1 columns</p>\n",
       "</div>"
      ],
      "text/plain": [
       "                                                   url\n",
       "0    /baca/nusantara/2022/09/25/kecelakaan-beruntun...\n",
       "1    /baca/nusantara/2024/04/28/kecelakaan-lalu-lin...\n",
       "2    /baca/ekonomi/2024/04/21/kecelakaan-travel-gel...\n",
       "3    /baca/video/2023/09/24/kecelakaan-di-sekitar-t...\n",
       "4    /baca/nusantara/2021/09/09/galeri-foto-kecelak...\n",
       "..                                                 ...\n",
       "641  /baca/metro/2020/12/26/kompolnas-pantau-penyel...\n",
       "642  /baca/nusantara/2022/03/17/dua-orang-tewas-aki...\n",
       "643  /baca/metro/2020/07/10/mobil-terjun-ke-kalimal...\n",
       "644  /baca/video/2018/09/10/jenazah-korban-kecelaka...\n",
       "645  /baca/nusantara/2021/03/29/truk-pengangkut-sod...\n",
       "\n",
       "[646 rows x 1 columns]"
      ]
     },
     "execution_count": 45,
     "metadata": {},
     "output_type": "execute_result"
    }
   ],
   "source": [
    "df_urls"
   ]
  },
  {
   "cell_type": "code",
   "execution_count": 46,
   "metadata": {},
   "outputs": [
    {
     "data": {
      "text/plain": [
       "445"
      ]
     },
     "execution_count": 46,
     "metadata": {},
     "output_type": "execute_result"
    }
   ],
   "source": [
    "df_urls.duplicated().sum()"
   ]
  },
  {
   "cell_type": "code",
   "execution_count": 47,
   "metadata": {},
   "outputs": [],
   "source": [
    "df_urls.drop_duplicates(inplace=True)\n",
    "df_urls.duplicated().sum()\n",
    "df_urls.reset_index(inplace=True)\n",
    "df_urls.drop(columns='index', inplace=True)"
   ]
  },
  {
   "cell_type": "code",
   "execution_count": 48,
   "metadata": {},
   "outputs": [
    {
     "data": {
      "text/html": [
       "<div>\n",
       "<style scoped>\n",
       "    .dataframe tbody tr th:only-of-type {\n",
       "        vertical-align: middle;\n",
       "    }\n",
       "\n",
       "    .dataframe tbody tr th {\n",
       "        vertical-align: top;\n",
       "    }\n",
       "\n",
       "    .dataframe thead th {\n",
       "        text-align: right;\n",
       "    }\n",
       "</style>\n",
       "<table border=\"1\" class=\"dataframe\">\n",
       "  <thead>\n",
       "    <tr style=\"text-align: right;\">\n",
       "      <th></th>\n",
       "      <th>url</th>\n",
       "    </tr>\n",
       "  </thead>\n",
       "  <tbody>\n",
       "    <tr>\n",
       "      <th>0</th>\n",
       "      <td>/baca/nusantara/2022/09/25/kecelakaan-beruntun...</td>\n",
       "    </tr>\n",
       "    <tr>\n",
       "      <th>1</th>\n",
       "      <td>/baca/nusantara/2024/04/28/kecelakaan-lalu-lin...</td>\n",
       "    </tr>\n",
       "    <tr>\n",
       "      <th>2</th>\n",
       "      <td>/baca/ekonomi/2024/04/21/kecelakaan-travel-gel...</td>\n",
       "    </tr>\n",
       "    <tr>\n",
       "      <th>3</th>\n",
       "      <td>/baca/video/2023/09/24/kecelakaan-di-sekitar-t...</td>\n",
       "    </tr>\n",
       "    <tr>\n",
       "      <th>4</th>\n",
       "      <td>/baca/nusantara/2021/09/09/galeri-foto-kecelak...</td>\n",
       "    </tr>\n",
       "    <tr>\n",
       "      <th>...</th>\n",
       "      <td>...</td>\n",
       "    </tr>\n",
       "    <tr>\n",
       "      <th>196</th>\n",
       "      <td>/baca/metro/2020/12/26/kompolnas-pantau-penyel...</td>\n",
       "    </tr>\n",
       "    <tr>\n",
       "      <th>197</th>\n",
       "      <td>/baca/nusantara/2022/03/17/dua-orang-tewas-aki...</td>\n",
       "    </tr>\n",
       "    <tr>\n",
       "      <th>198</th>\n",
       "      <td>/baca/metro/2020/07/10/mobil-terjun-ke-kalimal...</td>\n",
       "    </tr>\n",
       "    <tr>\n",
       "      <th>199</th>\n",
       "      <td>/baca/video/2018/09/10/jenazah-korban-kecelaka...</td>\n",
       "    </tr>\n",
       "    <tr>\n",
       "      <th>200</th>\n",
       "      <td>/baca/nusantara/2021/03/29/truk-pengangkut-sod...</td>\n",
       "    </tr>\n",
       "  </tbody>\n",
       "</table>\n",
       "<p>201 rows × 1 columns</p>\n",
       "</div>"
      ],
      "text/plain": [
       "                                                   url\n",
       "0    /baca/nusantara/2022/09/25/kecelakaan-beruntun...\n",
       "1    /baca/nusantara/2024/04/28/kecelakaan-lalu-lin...\n",
       "2    /baca/ekonomi/2024/04/21/kecelakaan-travel-gel...\n",
       "3    /baca/video/2023/09/24/kecelakaan-di-sekitar-t...\n",
       "4    /baca/nusantara/2021/09/09/galeri-foto-kecelak...\n",
       "..                                                 ...\n",
       "196  /baca/metro/2020/12/26/kompolnas-pantau-penyel...\n",
       "197  /baca/nusantara/2022/03/17/dua-orang-tewas-aki...\n",
       "198  /baca/metro/2020/07/10/mobil-terjun-ke-kalimal...\n",
       "199  /baca/video/2018/09/10/jenazah-korban-kecelaka...\n",
       "200  /baca/nusantara/2021/03/29/truk-pengangkut-sod...\n",
       "\n",
       "[201 rows x 1 columns]"
      ]
     },
     "execution_count": 48,
     "metadata": {},
     "output_type": "execute_result"
    }
   ],
   "source": [
    "df_urls"
   ]
  },
  {
   "cell_type": "code",
   "execution_count": 51,
   "metadata": {},
   "outputs": [],
   "source": [
    "df_urls.to_csv('url.csv')"
   ]
  }
 ],
 "metadata": {
  "kernelspec": {
   "display_name": "base",
   "language": "python",
   "name": "python3"
  },
  "language_info": {
   "codemirror_mode": {
    "name": "ipython",
    "version": 3
   },
   "file_extension": ".py",
   "mimetype": "text/x-python",
   "name": "python",
   "nbconvert_exporter": "python",
   "pygments_lexer": "ipython3",
   "version": "3.12.4"
  }
 },
 "nbformat": 4,
 "nbformat_minor": 2
}
